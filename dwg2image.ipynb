{
 "cells": [
  {
   "cell_type": "markdown",
   "metadata": {},
   "source": [
    "# DWG to Image Conversion"
   ]
  },
  {
   "cell_type": "code",
   "execution_count": 1,
   "metadata": {},
   "outputs": [],
   "source": [
    "import aspose.cad as cad"
   ]
  },
  {
   "cell_type": "code",
   "execution_count": null,
   "metadata": {},
   "outputs": [
    {
     "ename": "",
     "evalue": "",
     "output_type": "error",
     "traceback": [
      "\u001b[1;31mThe Kernel crashed while executing code in the current cell or a previous cell. \n",
      "\u001b[1;31mPlease review the code in the cell(s) to identify a possible cause of the failure. \n",
      "\u001b[1;31mClick <a href='https://aka.ms/vscodeJupyterKernelCrash'>here</a> for more info. \n",
      "\u001b[1;31mView Jupyter <a href='command:jupyter.viewOutput'>log</a> for further details."
     ]
    }
   ],
   "source": [
    "path_to_dwg = \"/mnt/data/SpaceForm/FloorPlans/Temp02/dwgs/River Farm/The River Farm SP3 20.01.2022 groundfloor plan.dwg\"\n",
    "image = cad.Image.load(path_to_dwg)\n",
    "image"
   ]
  },
  {
   "cell_type": "code",
   "execution_count": null,
   "metadata": {},
   "outputs": [],
   "source": [
    "rasterizationOptions = cad.imageoptions.CadRasterizationOptions()\n",
    "rasterizationOptions.layouts = [\"Model\"]\n",
    "rasterizationOptions"
   ]
  },
  {
   "cell_type": "code",
   "execution_count": null,
   "metadata": {},
   "outputs": [],
   "source": [
    "pdfOptions = cad.imageoptions.PdfOptions()\n",
    "pdfOptions.vector_rasterization_options = rasterizationOptions\n",
    "pdfOptions"
   ]
  },
  {
   "cell_type": "code",
   "execution_count": null,
   "metadata": {},
   "outputs": [],
   "source": [
    "image.save(\"output.pdf\", pdfOptions)"
   ]
  },
  {
   "cell_type": "code",
   "execution_count": null,
   "metadata": {},
   "outputs": [],
   "source": [
    "import aspose.cad as cad\n",
    "\n",
    "path_to_dwg = \"/mnt/data/SpaceForm/FloorPlans/Temp02/dwgs/River Farm/The River Farm SP3 20.01.2022 groundfloor plan.dwg\"\n",
    "image = cad.Image.load(path_to_dwg)\n",
    "rasterizationOptions = cad.imageoptions.CadRasterizationOptions()\n",
    "rasterizationOptions.layouts = [\"Model\"]\n",
    "\n",
    "pdfOptions = cad.imageoptions.PdfOptions()\n",
    "pdfOptions.vector_rasterization_options = rasterizationOptions\n",
    "\n",
    "image.save(\"result.pdf\", pdfOptions)"
   ]
  }
 ],
 "metadata": {
  "kernelspec": {
   "display_name": "cad",
   "language": "python",
   "name": "python3"
  },
  "language_info": {
   "codemirror_mode": {
    "name": "ipython",
    "version": 3
   },
   "file_extension": ".py",
   "mimetype": "text/x-python",
   "name": "python",
   "nbconvert_exporter": "python",
   "pygments_lexer": "ipython3",
   "version": "3.11.9"
  }
 },
 "nbformat": 4,
 "nbformat_minor": 2
}
